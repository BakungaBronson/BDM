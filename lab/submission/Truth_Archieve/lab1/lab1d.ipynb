{
  "cells": [
    {
      "cell_type": "markdown",
      "metadata": {
        "id": "view-in-github",
        "colab_type": "text"
      },
      "source": [
        "<a href=\"https://colab.research.google.com/github/drshahizan/BDM/blob/main/lab/submission/Truth_Archieve/lab1/lab1d.ipynb\" target=\"_parent\"><img src=\"https://colab.research.google.com/assets/colab-badge.svg\" alt=\"Open In Colab\"/></a>"
      ]
    },
    {
      "cell_type": "markdown",
      "metadata": {
        "id": "U4yoY3wh0RjD"
      },
      "source": [
        "# Lab 1d - Filtering and Sorting Data"
      ]
    },
    {
      "cell_type": "markdown",
      "metadata": {
        "id": "hr-Cc84z0RjG"
      },
      "source": [
        "Please use the [**Chipotle Sales dataset**](https://raw.githubusercontent.com/drshahizan/dataset/main/pandas/chipotle.tsv) for this exercise.\n",
        "\n",
        "### Step 1. Import the necessary libraries"
      ]
    },
    {
      "cell_type": "code",
      "execution_count": 1,
      "metadata": {
        "id": "f0cGQth80RjH"
      },
      "outputs": [],
      "source": [
        "import pandas as pd"
      ]
    },
    {
      "cell_type": "markdown",
      "metadata": {
        "id": "y1ZV8tMG0RjH"
      },
      "source": [
        "### Step 2. Import the dataset from this [address](https://raw.githubusercontent.com/justmarkham/DAT8/master/data/chipotle.tsv)."
      ]
    },
    {
      "cell_type": "markdown",
      "metadata": {
        "id": "ruliPtyz0RjI"
      },
      "source": [
        "### Step 3. Assign it to a variable called chipo."
      ]
    },
    {
      "cell_type": "code",
      "execution_count": 2,
      "metadata": {
        "id": "rctI_Bkq0RjI"
      },
      "outputs": [],
      "source": [
        "chipo = pd.read_csv('https://raw.githubusercontent.com/justmarkham/DAT8/master/data/chipotle.tsv', sep='\\t', index_col='order_id')"
      ]
    },
    {
      "cell_type": "code",
      "source": [
        "price_type= chipo['item_price'].dtype\n",
        "print(\"itemdatatype is: \", price_type)"
      ],
      "metadata": {
        "colab": {
          "base_uri": "https://localhost:8080/"
        },
        "id": "VdqNC0981ITM",
        "outputId": "7cd64604-2f91-4952-a986-d7ad10dda1b7"
      },
      "execution_count": 3,
      "outputs": [
        {
          "output_type": "stream",
          "name": "stdout",
          "text": [
            "itemdatatype is:  object\n"
          ]
        }
      ]
    },
    {
      "cell_type": "markdown",
      "source": [
        "converting the *item_price* column into a float"
      ],
      "metadata": {
        "id": "WVJ7hlGrWmio"
      }
    },
    {
      "cell_type": "code",
      "source": [
        "chipo['item_price'] = chipo['item_price'].apply(lambda x: float(x.replace(' ','').replace('$','')))"
      ],
      "metadata": {
        "id": "IGKMm9nr1TQZ"
      },
      "execution_count": 4,
      "outputs": []
    },
    {
      "cell_type": "code",
      "source": [
        "price_type= chipo['item_price'].dtype\n",
        "print(\"itemdatatype is: \", price_type)"
      ],
      "metadata": {
        "colab": {
          "base_uri": "https://localhost:8080/"
        },
        "id": "Yg2OWDXj1Vj4",
        "outputId": "3db33e4b-8013-49cd-a8b7-d18fa4484fd6"
      },
      "execution_count": 5,
      "outputs": [
        {
          "output_type": "stream",
          "name": "stdout",
          "text": [
            "itemdatatype is:  float64\n"
          ]
        }
      ]
    },
    {
      "cell_type": "markdown",
      "metadata": {
        "id": "8--K_9G-0RjI"
      },
      "source": [
        "### Step 4. How many products cost more than $10.00?"
      ]
    },
    {
      "cell_type": "code",
      "execution_count": 6,
      "metadata": {
        "colab": {
          "base_uri": "https://localhost:8080/"
        },
        "id": "_Ulftsid0RjJ",
        "outputId": "93f9c1c0-825e-4c43-a60f-438f1e3e5e7e"
      },
      "outputs": [
        {
          "output_type": "stream",
          "name": "stdout",
          "text": [
            "1130\n"
          ]
        }
      ],
      "source": [
        "more_than_10= chipo[ chipo['item_price'] >10.00]\n",
        "n_of_products= len(more_than_10)\n",
        "print(n_of_products)"
      ]
    },
    {
      "cell_type": "markdown",
      "metadata": {
        "id": "BWgZJcnv0RjJ"
      },
      "source": [
        "### Step 5. What is the price of each item?\n",
        "###### print a data frame with only two columns item_name and item_price"
      ]
    },
    {
      "cell_type": "code",
      "execution_count": 7,
      "metadata": {
        "colab": {
          "base_uri": "https://localhost:8080/"
        },
        "id": "IGFKZZum0RjJ",
        "outputId": "51c513f8-5e6a-43b8-a6eb-1ef5a36ddc36"
      },
      "outputs": [
        {
          "output_type": "stream",
          "name": "stdout",
          "text": [
            "item_name\n",
            "6 Pack Soft Drink                                                            [6.49, 12.98]\n",
            "Barbacoa Bowl                                      [11.75, 9.25, 8.99, 11.48, 8.69, 11.49]\n",
            "Barbacoa Burrito                                   [8.99, 9.25, 11.75, 11.08, 8.69, 11.48]\n",
            "Barbacoa Crispy Tacos                                     [11.75, 9.25, 11.48, 8.99, 18.5]\n",
            "Barbacoa Salad Bowl                                                          [11.89, 9.39]\n",
            "Barbacoa Soft Tacos                                             [9.25, 8.99, 11.75, 11.48]\n",
            "Bottled Water                            [1.09, 1.5, 3.0, 3.27, 2.18, 6.0, 7.5, 4.5, 10...\n",
            "Bowl                                                                           [22.2, 7.4]\n",
            "Burrito                                                                              [7.4]\n",
            "Canned Soda                                                             [2.18, 1.09, 4.36]\n",
            "Canned Soft Drink                                                   [1.25, 2.5, 3.75, 5.0]\n",
            "Carnitas Bowl                               [8.99, 11.75, 9.25, 11.48, 23.5, 11.08, 35.25]\n",
            "Carnitas Burrito                             [8.99, 9.25, 11.75, 11.48, 18.5, 11.08, 8.69]\n",
            "Carnitas Crispy Tacos                                           [9.25, 11.75, 8.99, 17.98]\n",
            "Carnitas Salad                                                                      [8.99]\n",
            "Carnitas Salad Bowl                                                          [11.89, 9.39]\n",
            "Carnitas Soft Tacos                                                    [9.25, 8.99, 11.75]\n",
            "Chicken Bowl                             [16.98, 10.98, 11.25, 8.75, 8.49, 17.5, 32.94,...\n",
            "Chicken Burrito                          [8.49, 10.98, 8.75, 17.5, 11.25, 10.58, 8.19, ...\n",
            "Chicken Crispy Tacos                               [8.75, 17.5, 11.25, 8.49, 10.98, 16.98]\n",
            "Chicken Salad                                                          [10.98, 8.49, 8.19]\n",
            "Chicken Salad Bowl                                               [8.75, 22.5, 17.5, 11.25]\n",
            "Chicken Soft Tacos                          [8.75, 11.25, 8.49, 17.5, 10.98, 16.98, 21.96]\n",
            "Chips                                                              [2.15, 4.3, 6.45, 1.99]\n",
            "Chips and Fresh Tomato Salsa                          [2.39, 2.95, 2.29, 11.8, 5.9, 44.25]\n",
            "Chips and Guacamole                      [4.45, 3.99, 4.0, 8.9, 3.89, 13.35, 7.98, 8.5,...\n",
            "Chips and Mild Fresh Tomato Salsa                                                    [3.0]\n",
            "Chips and Roasted Chili Corn Salsa                                             [2.95, 5.9]\n",
            "Chips and Roasted Chili-Corn Salsa                                                  [2.39]\n",
            "Chips and Tomatillo Green Chili Salsa                                          [2.95, 5.9]\n",
            "Chips and Tomatillo Red Chili Salsa                                            [2.95, 5.9]\n",
            "Chips and Tomatillo-Green Chili Salsa                                         [2.39, 4.78]\n",
            "Chips and Tomatillo-Red Chili Salsa                                     [2.39, 4.78, 7.17]\n",
            "Crispy Tacos                                                                         [7.4]\n",
            "Izze                                                                                [3.39]\n",
            "Nantucket Nectar                                                              [3.39, 6.78]\n",
            "Salad                                                                                [7.4]\n",
            "Side of Chips                                                          [1.69, 5.07, 13.52]\n",
            "Steak Bowl                               [8.99, 11.75, 11.48, 9.25, 11.08, 17.98, 8.69,...\n",
            "Steak Burrito                            [11.75, 9.25, 8.99, 11.48, 17.98, 11.08, 22.16...\n",
            "Steak Crispy Tacos                                        [9.25, 8.99, 8.69, 11.75, 17.98]\n",
            "Steak Salad                                                                   [8.99, 8.69]\n",
            "Steak Salad Bowl                                                      [23.78, 11.89, 9.39]\n",
            "Steak Soft Tacos                                          [9.25, 8.99, 11.75, 11.48, 18.5]\n",
            "Veggie Bowl                                              [11.25, 8.49, 8.75, 16.98, 10.98]\n",
            "Veggie Burrito                                           [11.25, 8.49, 10.98, 8.75, 33.75]\n",
            "Veggie Crispy Tacos                                                                 [8.49]\n",
            "Veggie Salad                                                                        [8.49]\n",
            "Veggie Salad Bowl                                                            [11.25, 8.75]\n",
            "Veggie Soft Tacos                                               [11.25, 8.75, 8.49, 16.98]\n",
            "Name: item_price, dtype: object\n"
          ]
        }
      ],
      "source": [
        "item_price=chipo.groupby('item_name')['item_price'].unique()\n",
        "print(item_price)"
      ]
    },
    {
      "cell_type": "markdown",
      "metadata": {
        "id": "RnlO0dYl0RjK"
      },
      "source": [
        "### Step 6. Sort by the name of the item"
      ]
    },
    {
      "cell_type": "code",
      "execution_count": 8,
      "metadata": {
        "colab": {
          "base_uri": "https://localhost:8080/"
        },
        "id": "Jq1PK9IM0RjK",
        "outputId": "9c1f3a4c-1dc6-4337-e682-e5ed02996e86"
      },
      "outputs": [
        {
          "output_type": "stream",
          "name": "stdout",
          "text": [
            "          quantity                     item_name  \\\n",
            "order_id                                           \n",
            "471              1                 Bottled Water   \n",
            "338              1                   Canned Soda   \n",
            "1575             1                   Canned Soda   \n",
            "47               1                   Canned Soda   \n",
            "1014             1                   Canned Soda   \n",
            "...            ...                           ...   \n",
            "1443             3                Veggie Burrito   \n",
            "1443             4               Chicken Burrito   \n",
            "511              4               Chicken Burrito   \n",
            "1398             3                 Carnitas Bowl   \n",
            "1443            15  Chips and Fresh Tomato Salsa   \n",
            "\n",
            "                                         choice_description  item_price  \n",
            "order_id                                                                 \n",
            "471                                                     NaN        1.09  \n",
            "338                                             [Coca Cola]        1.09  \n",
            "1575                                           [Dr. Pepper]        1.09  \n",
            "47                                             [Dr. Pepper]        1.09  \n",
            "1014                                            [Coca Cola]        1.09  \n",
            "...                                                     ...         ...  \n",
            "1443      [Fresh Tomato Salsa, [Fajita Vegetables, Rice,...       33.75  \n",
            "1443      [Fresh Tomato Salsa, [Rice, Black Beans, Chees...       35.00  \n",
            "511       [Fresh Tomato Salsa, [Fajita Vegetables, Rice,...       35.00  \n",
            "1398      [Roasted Chili Corn Salsa, [Fajita Vegetables,...       35.25  \n",
            "1443                                                    NaN       44.25  \n",
            "\n",
            "[4622 rows x 4 columns]\n"
          ]
        }
      ],
      "source": [
        "sorted_data=chipo.sort_values(by='item_price')\n",
        "print(sorted_data)"
      ]
    },
    {
      "cell_type": "markdown",
      "metadata": {
        "id": "07AsghYy0RjK"
      },
      "source": [
        "### Step 7. What was the quantity of the most expensive item ordered?"
      ]
    },
    {
      "cell_type": "code",
      "execution_count": 9,
      "metadata": {
        "colab": {
          "base_uri": "https://localhost:8080/"
        },
        "id": "xvLxvZu40RjK",
        "outputId": "33af24b6-c8c4-4ab1-bb25-cd9bbab4b4ee"
      },
      "outputs": [
        {
          "output_type": "stream",
          "name": "stdout",
          "text": [
            "15\n"
          ]
        }
      ],
      "source": [
        "most_expensve= chipo[chipo['item_price']==chipo['item_price'].max()]\n",
        "quntity_of_expensive = most_expensve['quantity'].values[0]\n",
        "print(quntity_of_expensive)"
      ]
    },
    {
      "cell_type": "markdown",
      "metadata": {
        "id": "DQWfPpGB0RjK"
      },
      "source": [
        "### Step 8. How many times was a Veggie Salad Bowl ordered?"
      ]
    },
    {
      "cell_type": "code",
      "execution_count": 10,
      "metadata": {
        "colab": {
          "base_uri": "https://localhost:8080/"
        },
        "id": "rPIRRyzl0RjK",
        "outputId": "8c684ba8-9339-427a-b81f-eeb36d3bdf48"
      },
      "outputs": [
        {
          "output_type": "stream",
          "name": "stdout",
          "text": [
            "18\n"
          ]
        }
      ],
      "source": [
        "veggie=chipo[chipo['item_name'] == 'Veggie Salad Bowl']\n",
        "n_of_bowls=veggie.shape[0]\n",
        "print(n_of_bowls)"
      ]
    },
    {
      "cell_type": "markdown",
      "metadata": {
        "id": "YWkr2M620RjL"
      },
      "source": [
        "### Step 9. How many times did someone order more than one Canned Soda?"
      ]
    },
    {
      "cell_type": "code",
      "execution_count": 11,
      "metadata": {
        "colab": {
          "base_uri": "https://localhost:8080/"
        },
        "id": "zdxr7ygH0RjL",
        "outputId": "06877ddf-8e37-41e0-9003-513e15a59db3"
      },
      "outputs": [
        {
          "output_type": "stream",
          "name": "stdout",
          "text": [
            "20\n"
          ]
        }
      ],
      "source": [
        "m_soda = chipo[(chipo['item_name'] == 'Canned Soda') & (chipo['quantity'] >1)]\n",
        "n_of_m_soda = m_soda.shape[0]\n",
        "print(n_of_m_soda)"
      ]
    }
  ],
  "metadata": {
    "kernelspec": {
      "display_name": "Python 2",
      "language": "python",
      "name": "python2"
    },
    "language_info": {
      "codemirror_mode": {
        "name": "ipython",
        "version": 2
      },
      "file_extension": ".py",
      "mimetype": "text/x-python",
      "name": "python",
      "nbconvert_exporter": "python",
      "pygments_lexer": "ipython2",
      "version": "2.7.11"
    },
    "colab": {
      "provenance": [],
      "include_colab_link": true
    }
  },
  "nbformat": 4,
  "nbformat_minor": 0
}